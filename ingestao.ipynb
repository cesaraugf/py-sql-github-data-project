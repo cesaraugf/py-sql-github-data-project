{
  "cells": [
    {
      "cell_type": "markdown",
      "metadata": {
        "colab_type": "text",
        "id": "view-in-github"
      },
      "source": [
        "<a href=\"https://colab.research.google.com/github/cesaraugf/py-sql-github-data-project/blob/develop/ingestao.ipynb\" target=\"_parent\"><img src=\"https://colab.research.google.com/assets/colab-badge.svg\" alt=\"Open In Colab\"/></a>"
      ]
    },
    {
      "cell_type": "code",
      "execution_count": null,
      "metadata": {
        "id": "EsFJPfDZ8WBV"
      },
      "outputs": [],
      "source": [
        "import duckdb\n",
        "import pandas as pd\n",
        "import os\n",
        "from datetime import datetime"
      ]
    },
    {
      "cell_type": "code",
      "execution_count": null,
      "metadata": {
        "id": "Gr2FIGFmE1yz"
      },
      "outputs": [],
      "source": [
        "con = duckdb.connect(database='dados_duckdb.db', read_only=False)"
      ]
    },
    {
      "cell_type": "code",
      "execution_count": null,
      "metadata": {
        "colab": {
          "base_uri": "https://localhost:8080/",
          "height": 143
        },
        "id": "E4SHccnDE4OP",
        "outputId": "63275c4d-1d72-4a26-fcf8-cb62fa7bb3ee"
      },
      "outputs": [],
      "source": [
        "arquivo= 'z0019_1.csv'\n",
        "data_ingestao = datetime.now()\n",
        "df = pd.read_csv(f'./landing/{arquivo}', sep=';')\n",
        "df['nome_arquivo'] = arquivo\n",
        "df['data_ingestao'] = data_ingestao\n",
        "df.head()"
      ]
    },
    {
      "cell_type": "code",
      "execution_count": null,
      "metadata": {
        "colab": {
          "base_uri": "https://localhost:8080/"
        },
        "id": "IJtOE4SCFHTS",
        "outputId": "b2f4e000-cb0a-453d-d18a-7bfba5f93118"
      },
      "outputs": [],
      "source": [
        "con.execute(\"\"\"\n",
        "CREATE TABLE IF NOT EXISTS bronze_produtos (\n",
        "  NATBR VARCHAR,\n",
        "  MAKTX VARCHAR,\n",
        "  WERKS VARCHAR,\n",
        "  MAINS VARCHAR,\n",
        "  LABST VARCHAR,\n",
        "  nome_arquivo VARCHAR,\n",
        "  data_ingestao VARCHAR,\n",
        ")\n",
        "\"\"\")"
      ]
    },
    {
      "cell_type": "code",
      "execution_count": null,
      "metadata": {
        "colab": {
          "base_uri": "https://localhost:8080/"
        },
        "id": "6HZEpxVxFFGE",
        "outputId": "1df08d80-6af5-4d3a-c572-c1529e3ca06e"
      },
      "outputs": [],
      "source": [
        "con.execute(f\"\"\"\n",
        "INSERT INTO bronze_produtos\n",
        "SELECT * FROM df\n",
        "\"\"\")"
      ]
    },
    {
      "cell_type": "code",
      "execution_count": null,
      "metadata": {
        "colab": {
          "base_uri": "https://localhost:8080/",
          "height": 238
        },
        "id": "qiIeBIUnFMzo",
        "outputId": "10fc6244-5534-43d9-9a02-dc4d2ba98ad6"
      },
      "outputs": [],
      "source": [
        "resultado = con.execute(\"SELECT * FROM bronze_z0019\").fetchdf()\n",
        "resultado.head(6)"
      ]
    },
    {
      "cell_type": "code",
      "execution_count": null,
      "metadata": {
        "colab": {
          "base_uri": "https://localhost:8080/"
        },
        "id": "X5seEMGdFZiM",
        "outputId": "d41a093d-a393-4fbb-cff8-4522b5691b33"
      },
      "outputs": [],
      "source": [
        "con.execute(\"ALTER TABLE bronze_produtos RENAME TO bronze_z0019\")"
      ]
    },
    {
      "cell_type": "code",
      "execution_count": null,
      "metadata": {},
      "outputs": [],
      "source": [
        "con.commit()"
      ]
    },
    {
      "cell_type": "code",
      "execution_count": null,
      "metadata": {
        "id": "_ew1rGVkFdA5"
      },
      "outputs": [],
      "source": [
        "con.close()"
      ]
    }
  ],
  "metadata": {
    "colab": {
      "authorship_tag": "ABX9TyMaHz6gJdua1rhF0wlX/Map",
      "include_colab_link": true,
      "mount_file_id": "1tChksW4krxRVi4rD-tHJwhlxQbIeTD4F",
      "provenance": []
    },
    "kernelspec": {
      "display_name": "venv312",
      "language": "python",
      "name": "python3"
    },
    "language_info": {
      "codemirror_mode": {
        "name": "ipython",
        "version": 3
      },
      "file_extension": ".py",
      "mimetype": "text/x-python",
      "name": "python",
      "nbconvert_exporter": "python",
      "pygments_lexer": "ipython3",
      "version": "3.12.0"
    }
  },
  "nbformat": 4,
  "nbformat_minor": 0
}
