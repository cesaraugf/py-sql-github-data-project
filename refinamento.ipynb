{
 "cells": [
  {
   "cell_type": "code",
   "execution_count": null,
   "id": "db9ba26b",
   "metadata": {},
   "outputs": [],
   "source": [
    "import duckdb"
   ]
  },
  {
   "cell_type": "code",
   "execution_count": null,
   "id": "ed4d723a",
   "metadata": {},
   "outputs": [],
   "source": [
    "con = duckdb.connect(database='dados_duckdb.db', read_only=False)"
   ]
  },
  {
   "cell_type": "code",
   "execution_count": null,
   "id": "436135b2",
   "metadata": {},
   "outputs": [],
   "source": [
    "df = con.execute(\"SELECT * FROM produtos\").fetchdf()\n",
    "df.head(10)"
   ]
  },
  {
   "cell_type": "code",
   "execution_count": null,
   "id": "94574746",
   "metadata": {},
   "outputs": [],
   "source": [
    "df2 = df.drop(columns=['id_categoria', 'id_fornecedor'])\n",
    "df2.head(10)"
   ]
  },
  {
   "cell_type": "code",
   "execution_count": null,
   "id": "dc7b88a8",
   "metadata": {},
   "outputs": [],
   "source": [
    "con.execute(\"\"\"\n",
    "    CREATE TABLE IF NOT EXISTS dim_produtos (\n",
    "        id_produto  BIGINT,\n",
    "        nm_produto TEXT,\n",
    "        vl_produto FLOAT\n",
    "    );\n",
    "\"\"\")"
   ]
  },
  {
   "cell_type": "code",
   "execution_count": null,
   "id": "60197f9f",
   "metadata": {},
   "outputs": [],
   "source": [
    "df_dim = con.execute(\"SELECT * FROM dim_produtos\").fetchdf()\n",
    "df_dim.head(10)"
   ]
  },
  {
   "cell_type": "code",
   "execution_count": null,
   "id": "57a8c371",
   "metadata": {},
   "outputs": [],
   "source": [
    "con.execute(\"INSERT INTO dim_produtos SELECT * FROM df2\")"
   ]
  },
  {
   "cell_type": "code",
   "execution_count": null,
   "id": "a7840d9e",
   "metadata": {},
   "outputs": [],
   "source": [
    "con.commit()\n",
    "con.close()"
   ]
  }
 ],
 "metadata": {
  "kernelspec": {
   "display_name": "venv312",
   "language": "python",
   "name": "python3"
  },
  "language_info": {
   "codemirror_mode": {
    "name": "ipython",
    "version": 3
   },
   "file_extension": ".py",
   "mimetype": "text/x-python",
   "name": "python",
   "nbconvert_exporter": "python",
   "pygments_lexer": "ipython3",
   "version": "3.12.0"
  }
 },
 "nbformat": 4,
 "nbformat_minor": 5
}
